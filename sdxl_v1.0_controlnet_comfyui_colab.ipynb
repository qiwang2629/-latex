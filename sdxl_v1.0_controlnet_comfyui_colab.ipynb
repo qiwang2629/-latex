{
  "cells": [
    {
      "cell_type": "markdown",
      "metadata": {
        "id": "view-in-github",
        "colab_type": "text"
      },
      "source": [
        "<a href=\"https://colab.research.google.com/github/qiwang2629/-latex/blob/main/sdxl_v1.0_controlnet_comfyui_colab.ipynb\" target=\"_parent\"><img src=\"https://colab.research.google.com/assets/colab-badge.svg\" alt=\"Open In Colab\"/></a>"
      ]
    },
    {
      "cell_type": "code",
      "execution_count": null,
      "metadata": {
        "id": "SaAJk33ppFw1"
      },
      "outputs": [],
      "source": [
        "import os\n",
        "\n",
        "# ✅ 安装 PyTorch（兼容 Triton）\n",
        "!pip install torch==2.1.0 torchvision==0.16.0 torchaudio==2.1.0 --index-url https://download.pytorch.org/whl/cu118\n",
        "\n",
        "# ✅ 补上 CLIPVision 所需 transformers\n",
        "!pip install transformers==4.31.0\n",
        "\n",
        "# ✅ 安装系统库 & tcmalloc\n",
        "!apt -y update -qq\n",
        "!wget https://github.com/camenduru/gperftools/releases/download/v1.0/libtcmalloc_minimal.so.4 -O /content/libtcmalloc_minimal.so.4\n",
        "%env LD_PRELOAD=/content/libtcmalloc_minimal.so.4\n",
        "!apt -y install -qq aria2\n",
        "\n",
        "# ✅ 安装 Python 依赖\n",
        "!pip install -q xformers==0.0.20 triton==2.0.0\n",
        "!pip install -q addict yapf fvcore omegaconf mediapipe==0.10.21\n",
        "\n",
        "# ✅ 克隆 ComfyUI 与 ControlNet 插件\n",
        "!git clone -b v1.5 https://github.com/camenduru/ComfyUI\n",
        "%cd /content/ComfyUI\n",
        "!pip install -q -r requirements.txt\n",
        "\n",
        "!git clone -b v1.5 https://github.com/camenduru/comfy_controlnet_preprocessors /content/ComfyUI/custom_nodes/comfy_controlnet_preprocessors\n",
        "%cd /content/ComfyUI/custom_nodes/comfy_controlnet_preprocessors\n",
        "!python install.py --no_download_ckpts\n",
        "%cd /content/ComfyUI\n",
        "\n",
        "# ✅ 启动 Cloudflare 隧道，替代 --share\n",
        "!wget https://github.com/cloudflare/cloudflared/releases/latest/download/cloudflared-linux-amd64 -O /content/cloudflared-linux-amd64 && chmod 777 /content/cloudflared-linux-amd64\n",
        "import atexit, requests, subprocess, time, re\n",
        "from random import randint\n",
        "from threading import Timer\n",
        "from queue import Queue\n",
        "\n",
        "def cloudflared(port, metrics_port, output_queue):\n",
        "    atexit.register(lambda p: p.terminate(), subprocess.Popen(\n",
        "        ['/content/cloudflared-linux-amd64', 'tunnel', '--url', f'http://127.0.0.1:{port}', '--metrics', f'127.0.0.1:{metrics_port}'],\n",
        "        stdout=subprocess.DEVNULL, stderr=subprocess.STDOUT))\n",
        "    attempts, tunnel_url = 0, None\n",
        "    while attempts < 10 and not tunnel_url:\n",
        "        attempts += 1\n",
        "        time.sleep(3)\n",
        "        try:\n",
        "            tunnel_url = re.search(\"(?P<url>https?:\\/\\/[^\\s]+.trycloudflare.com)\",\n",
        "                                   requests.get(f'http://127.0.0.1:{metrics_port}/metrics').text).group(\"url\")\n",
        "        except:\n",
        "            pass\n",
        "    if not tunnel_url:\n",
        "        raise Exception(\"❌ 无法连接 Cloudflare\")\n",
        "    output_queue.put(tunnel_url)\n",
        "\n",
        "output_queue, metrics_port = Queue(), randint(8100, 9000)\n",
        "thread = Timer(2, cloudflared, args=(8188, metrics_port, output_queue))\n",
        "thread.start()\n",
        "thread.join()\n",
        "tunnel_url = output_queue.get()\n",
        "os.environ['webui_url'] = tunnel_url\n",
        "print(f\"✅ ComfyUI 启动成功，请点击访问：{tunnel_url}\")\n",
        "\n",
        "# ✅ 下载模型\n",
        "!mkdir -p /content/ComfyUI/models/checkpoints\n",
        "!mkdir -p /content/ComfyUI/models/controlnet\n",
        "!mkdir -p /content/ComfyUI/models/upscale_models\n",
        "!mkdir -p /content/ComfyUI/models/vae\n",
        "\n",
        "# 🔹 SDXL Base\n",
        "!aria2c -q -c -x 16 -s 16 -k 1M https://huggingface.co/ckpt/sd_xl_base_1.0/resolve/main/sd_xl_base_1.0_0.9vae.safetensors -d /content/ComfyUI/models/checkpoints -o sd_xl_base_1.0.safetensors\n",
        "\n",
        "# 🔹 ControlNet OpenPose\n",
        "!aria2c -q -c -x 16 -s 16 -k 1M https://huggingface.co/ckpt/controlnet-sdxl-1.0/resolve/main/OpenPoseXL2.safetensors -d /content/ComfyUI/models/controlnet -o OpenPoseXL2.safetensors\n",
        "\n",
        "# 🔹 Real-ESRGAN Upscaler\n",
        "!aria2c -q -c -x 16 -s 16 -k 1M https://github.com/xinntao/Real-ESRGAN/releases/download/v0.2.1/RealESRGAN_x2plus.pth -d /content/ComfyUI/models/upscale_models -o RealESRGAN_x2plus.pth\n",
        "\n",
        "# 🔹 VAE\n",
        "!aria2c -q -c -x 16 -s 16 -k 1M https://huggingface.co/ckpt/sdxl_vae/resolve/main/sdxl_vae.safetensors -d /content/ComfyUI/models/vae -o sdxl_vae.vae.safetensors\n",
        "\n",
        "# ✅ 启动 ComfyUI 主程序\n",
        "!python main.py --dont-print-server\n"
      ]
    }
  ],
  "metadata": {
    "accelerator": "GPU",
    "colab": {
      "private_outputs": true,
      "provenance": [],
      "include_colab_link": true
    },
    "gpuClass": "standard",
    "kernelspec": {
      "display_name": "Python 3",
      "language": "python",
      "name": "python3"
    },
    "language_info": {
      "name": "python",
      "version": "3.10.8"
    },
    "vscode": {
      "interpreter": {
        "hash": "e593ac106456af50ce7af38f9671c411b49d6cd90f9b885e167f0f594e09038c"
      }
    }
  },
  "nbformat": 4,
  "nbformat_minor": 0
}